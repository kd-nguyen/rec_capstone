{
 "cells": [
  {
   "cell_type": "code",
   "execution_count": 1,
   "metadata": {},
   "outputs": [],
   "source": [
    "import numpy as np\n",
    "import pandas as pd"
   ]
  },
  {
   "cell_type": "markdown",
   "metadata": {},
   "source": [
    "# Load item and rating info"
   ]
  },
  {
   "cell_type": "code",
   "execution_count": 2,
   "metadata": {},
   "outputs": [],
   "source": [
    "items = pd.read_excel('office.xlsx', sheet_name='Items', index_col=0)"
   ]
  },
  {
   "cell_type": "code",
   "execution_count": 3,
   "metadata": {},
   "outputs": [
    {
     "data": {
      "text/html": [
       "<div>\n",
       "<style scoped>\n",
       "    .dataframe tbody tr th:only-of-type {\n",
       "        vertical-align: middle;\n",
       "    }\n",
       "\n",
       "    .dataframe tbody tr th {\n",
       "        vertical-align: top;\n",
       "    }\n",
       "\n",
       "    .dataframe thead th {\n",
       "        text-align: right;\n",
       "    }\n",
       "</style>\n",
       "<table border=\"1\" class=\"dataframe\">\n",
       "  <thead>\n",
       "    <tr style=\"text-align: right;\">\n",
       "      <th></th>\n",
       "      <th>Product</th>\n",
       "      <th>User</th>\n",
       "      <th>Rating</th>\n",
       "    </tr>\n",
       "  </thead>\n",
       "  <tbody>\n",
       "    <tr>\n",
       "      <th>37</th>\n",
       "      <td>72</td>\n",
       "      <td>64</td>\n",
       "      <td>4</td>\n",
       "    </tr>\n",
       "    <tr>\n",
       "      <th>426</th>\n",
       "      <td>1240</td>\n",
       "      <td>64</td>\n",
       "      <td>5</td>\n",
       "    </tr>\n",
       "    <tr>\n",
       "      <th>564</th>\n",
       "      <td>1300</td>\n",
       "      <td>64</td>\n",
       "      <td>4</td>\n",
       "    </tr>\n",
       "    <tr>\n",
       "      <th>573</th>\n",
       "      <td>1317</td>\n",
       "      <td>64</td>\n",
       "      <td>5</td>\n",
       "    </tr>\n",
       "    <tr>\n",
       "      <th>620</th>\n",
       "      <td>1327</td>\n",
       "      <td>64</td>\n",
       "      <td>3</td>\n",
       "    </tr>\n",
       "  </tbody>\n",
       "</table>\n",
       "</div>"
      ],
      "text/plain": [
       "     Product  User  Rating\n",
       "37        72    64       4\n",
       "426     1240    64       5\n",
       "564     1300    64       4\n",
       "573     1317    64       5\n",
       "620     1327    64       3"
      ]
     },
     "execution_count": 3,
     "metadata": {},
     "output_type": "execute_result"
    }
   ],
   "source": [
    "ratings = pd.read_excel('office.xlsx', sheet_name='Ratings', index_col=0).stack().reset_index()\n",
    "ratings.columns = ['Product', 'User', 'Rating']\n",
    "ratings['User'] = ratings['User'].astype(int)\n",
    "ratings['Rating'] = ratings['Rating'].astype(int)\n",
    "ratings.sort_values(by=['User', 'Product'], inplace=True)\n",
    "ratings.head()"
   ]
  },
  {
   "cell_type": "code",
   "execution_count": 4,
   "metadata": {},
   "outputs": [],
   "source": [
    "good_ratings = ratings.loc[(ratings['Rating']==4) | (ratings['Rating']==5)]"
   ]
  },
  {
   "cell_type": "markdown",
   "metadata": {},
   "source": [
    "# Load predicted rating"
   ]
  },
  {
   "cell_type": "code",
   "execution_count": 210,
   "metadata": {},
   "outputs": [],
   "source": [
    "cbf = pd.read_excel('office.xlsx', sheet_name='CBF', index_col=0)\n",
    "itemitem = pd.read_excel('office.xlsx', sheet_name='Item-Item', index_col=0)\n",
    "useruser = pd.read_excel('office.xlsx', sheet_name='User-User', index_col=0).dropna(axis=1)"
   ]
  },
  {
   "cell_type": "code",
   "execution_count": 201,
   "metadata": {},
   "outputs": [],
   "source": [
    "def get_rec(predicted_ratings, k=5, combined=False, get_product=True, stacked=True):\n",
    "    predicted_ratings.columns = predicted_ratings.columns.astype(int)\n",
    "    if combined:\n",
    "        rec = predicted_ratings.apply(lambda user: get_rec_combined(user, k).index) if get_product else predicted_ratings.apply(lambda user: get_rec_combined(user, k).values) \n",
    "    else:\n",
    "        rec = predicted_ratings.apply(lambda user: user.nlargest(k).index) if get_product else predicted_ratings.apply(lambda user: user.nlargest(k).values) \n",
    "    if not stacked:\n",
    "        return rec\n",
    "    else:\n",
    "        rec = rec.stack().reset_index(level=1)\n",
    "        rec.columns = ['User', 'Product'] if get_product else ['User', 'Rating']\n",
    "        rec.sort_values(by=['User'], inplace=True)\n",
    "        return rec"
   ]
  },
  {
   "cell_type": "code",
   "execution_count": 7,
   "metadata": {},
   "outputs": [],
   "source": [
    "def get_metrics(rec, good_ratings, items):\n",
    "    precision = len(pd.merge(rec, good_ratings[['Product', 'User']])) / 500\n",
    "    price_div = items.loc[rec['Product'], 'Price'].std()\n",
    "    avail_avg = items.loc[rec['Product'], 'Availability'].mean()\n",
    "    return precision, price_div, avail_avg"
   ]
  },
  {
   "cell_type": "markdown",
   "metadata": {},
   "source": [
    "# Get performance results for each algorithm"
   ]
  },
  {
   "cell_type": "code",
   "execution_count": 211,
   "metadata": {},
   "outputs": [
    {
     "data": {
      "text/plain": [
       "(0.104, 31.761838890123908, 0.5853634540762697)"
      ]
     },
     "execution_count": 211,
     "metadata": {},
     "output_type": "execute_result"
    }
   ],
   "source": [
    "get_metrics(get_rec(cbf), good_ratings, items)"
   ]
  },
  {
   "cell_type": "code",
   "execution_count": 212,
   "metadata": {},
   "outputs": [
    {
     "data": {
      "text/plain": [
       "(0.214, 36.276372726040655, 0.6133728647426742)"
      ]
     },
     "execution_count": 212,
     "metadata": {},
     "output_type": "execute_result"
    }
   ],
   "source": [
    "get_metrics(get_rec(itemitem), good_ratings, items)"
   ]
  },
  {
   "cell_type": "code",
   "execution_count": 213,
   "metadata": {
    "scrolled": true
   },
   "outputs": [
    {
     "data": {
      "text/plain": [
       "(0.52, 40.496623332098146, 0.6964598020812371)"
      ]
     },
     "execution_count": 213,
     "metadata": {},
     "output_type": "execute_result"
    }
   ],
   "source": [
    "get_metrics(get_rec(useruser), good_ratings, items)"
   ]
  },
  {
   "cell_type": "markdown",
   "metadata": {},
   "source": [
    "# Building hybrids"
   ]
  },
  {
   "cell_type": "code",
   "execution_count": 214,
   "metadata": {},
   "outputs": [],
   "source": [
    "cbf = cbf[useruser.columns]\n",
    "itemitem = itemitem[useruser.columns]"
   ]
  },
  {
   "cell_type": "code",
   "execution_count": 215,
   "metadata": {},
   "outputs": [
    {
     "data": {
      "text/plain": [
       "((200, 99), (200, 99), (200, 99))"
      ]
     },
     "execution_count": 215,
     "metadata": {},
     "output_type": "execute_result"
    }
   ],
   "source": [
    "cbf.shape, itemitem.shape, useruser.shape"
   ]
  },
  {
   "cell_type": "markdown",
   "metadata": {},
   "source": [
    "## Sort items by rating"
   ]
  },
  {
   "cell_type": "code",
   "execution_count": 38,
   "metadata": {
    "scrolled": true
   },
   "outputs": [],
   "source": [
    "combined_ratings = pd.concat([cbf, itemitem, useruser])"
   ]
  },
  {
   "cell_type": "code",
   "execution_count": 71,
   "metadata": {},
   "outputs": [],
   "source": [
    "def get_rec_combined(user, k=5):\n",
    "    sorted_ratings = user.sort_values(ascending=False)\n",
    "    sorted_non_duplicated = sorted_ratings.loc[~sorted_ratings.index.duplicated()]\n",
    "    return sorted_non_duplicated.iloc[:k]"
   ]
  },
  {
   "cell_type": "code",
   "execution_count": 76,
   "metadata": {},
   "outputs": [
    {
     "data": {
      "text/plain": [
       "(0.288, 36.22843228446957, 0.630450961536144)"
      ]
     },
     "execution_count": 76,
     "metadata": {},
     "output_type": "execute_result"
    }
   ],
   "source": [
    "get_metrics(get_rec(combined_ratings, combined=True), good_ratings, items)"
   ]
  },
  {
   "cell_type": "markdown",
   "metadata": {},
   "source": [
    "## Get items that appear in most recommenders"
   ]
  },
  {
   "cell_type": "code",
   "execution_count": 187,
   "metadata": {},
   "outputs": [],
   "source": [
    "rec_cbf = get_rec(cbf)\n",
    "rec_ii = get_rec(itemitem)\n",
    "rec_uu = get_rec(useruser)"
   ]
  },
  {
   "cell_type": "code",
   "execution_count": 188,
   "metadata": {},
   "outputs": [],
   "source": [
    "combined_rec = pd.concat([rec_cbf, rec_ii, rec_uu])"
   ]
  },
  {
   "cell_type": "code",
   "execution_count": 189,
   "metadata": {},
   "outputs": [],
   "source": [
    "rating_cbf = get_rec(cbf, get_product=False)\n",
    "rating_ii = get_rec(itemitem, get_product=False)\n",
    "rating_uu = get_rec(useruser, get_product=False)"
   ]
  },
  {
   "cell_type": "code",
   "execution_count": 190,
   "metadata": {},
   "outputs": [],
   "source": [
    "combined_rating = pd.concat([rating_cbf, rating_ii, rating_uu])"
   ]
  },
  {
   "cell_type": "code",
   "execution_count": 191,
   "metadata": {},
   "outputs": [],
   "source": [
    "combined_rec['Rating'] = combined_rating['Rating']"
   ]
  },
  {
   "cell_type": "code",
   "execution_count": 192,
   "metadata": {},
   "outputs": [],
   "source": [
    "combined_rec = combined_rec.groupby(['User', 'Product'])['Rating'].agg(['size', 'mean']).reset_index()"
   ]
  },
  {
   "cell_type": "code",
   "execution_count": 197,
   "metadata": {},
   "outputs": [],
   "source": [
    "combined_rec = combined_rec.groupby('User').apply(lambda user: user.sort_values(by=['size', 'mean'], ascending=False)[:5]).reset_index(level=0, drop=True)"
   ]
  },
  {
   "cell_type": "code",
   "execution_count": 199,
   "metadata": {},
   "outputs": [
    {
     "data": {
      "text/plain": [
       "(0.308, 36.47239996721786, 0.6340136963630004)"
      ]
     },
     "execution_count": 199,
     "metadata": {},
     "output_type": "execute_result"
    }
   ],
   "source": [
    "get_metrics(combined_rec[['User', 'Product']], good_ratings, items)"
   ]
  },
  {
   "cell_type": "markdown",
   "metadata": {},
   "source": [
    "## Weighted hybrid"
   ]
  },
  {
   "cell_type": "code",
   "execution_count": 216,
   "metadata": {},
   "outputs": [],
   "source": [
    "p_cbf = 0.104\n",
    "p_ii = 0.214\n",
    "p_uu = 0.52"
   ]
  },
  {
   "cell_type": "code",
   "execution_count": 219,
   "metadata": {},
   "outputs": [],
   "source": [
    "weighed_ratings = (cbf * p_cbf + itemitem * p_ii + useruser * p_uu) / (p_cbf + p_ii + p_uu)"
   ]
  },
  {
   "cell_type": "code",
   "execution_count": 220,
   "metadata": {},
   "outputs": [
    {
     "data": {
      "text/plain": [
       "(0.42, 35.994930360903346, 0.6900636798560479)"
      ]
     },
     "execution_count": 220,
     "metadata": {},
     "output_type": "execute_result"
    }
   ],
   "source": [
    "get_metrics(get_rec(weighed_ratings), good_ratings, items)"
   ]
  }
 ],
 "metadata": {
  "kernelspec": {
   "display_name": "Python 3",
   "language": "python",
   "name": "python3"
  },
  "language_info": {
   "codemirror_mode": {
    "name": "ipython",
    "version": 3
   },
   "file_extension": ".py",
   "mimetype": "text/x-python",
   "name": "python",
   "nbconvert_exporter": "python",
   "pygments_lexer": "ipython3",
   "version": "3.6.5"
  }
 },
 "nbformat": 4,
 "nbformat_minor": 2
}
